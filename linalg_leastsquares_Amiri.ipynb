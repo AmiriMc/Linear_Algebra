{
 "cells": [
  {
   "cell_type": "code",
   "execution_count": 1,
   "metadata": {},
   "outputs": [],
   "source": [
    "import numpy as np\n",
    "import matplotlib.pyplot as plt\n",
    "from sympy import *\n",
    "import scipy.io as sio\n",
    "from mpl_toolkits.mplot3d import Axes3D"
   ]
  },
  {
   "cell_type": "code",
   "execution_count": 20,
   "metadata": {},
   "outputs": [
    {
     "name": "stdout",
     "output_type": "stream",
     "text": [
      "B1:\n",
      " [[-0.08099725]\n",
      " [-0.67912865]\n",
      " [-0.08170933]]\n",
      "\n",
      "B2:\n",
      " [[-0.08099725]\n",
      " [-0.67912865]\n",
      " [-0.08170933]]\n",
      "\n",
      "X:\n",
      " [[ 0.61603707  0.81906931 -1.54520795]\n",
      " [ 0.51951983  0.18496687  0.96690184]\n",
      " [ 0.32440427 -0.112715   -1.82870799]\n",
      " [ 0.38856614  0.40492932  0.61003039]\n",
      " [-0.90016434 -1.08427277  0.27973987]\n",
      " [-0.9979506   0.69866386 -0.52520672]\n",
      " [ 0.50726875 -1.43843594  0.75280595]\n",
      " [-0.19274561  0.5359036  -1.15055652]\n",
      " [-1.06427616  1.38798122  0.34986272]\n",
      " [-0.9777568   3.04032483 -0.54053641]]\n",
      "Q:\n",
      " [[-0.27291988 -0.37854994 -0.39517199]\n",
      " [-0.23016032 -0.17602619  0.39338467]\n",
      " [-0.14371923 -0.04529541 -0.61749239]\n",
      " [-0.17214455 -0.20714211  0.28448477]\n",
      " [ 0.39879539  0.5212699  -0.09178245]\n",
      " [ 0.44211716  0.03969002 -0.18105977]\n",
      " [-0.22473279  0.28657035  0.14059302]\n",
      " [ 0.08539114 -0.10587028 -0.35245512]\n",
      " [ 0.47150105 -0.13971001  0.19095832]\n",
      " [ 0.4331708  -0.62817802  0.07208618]]\n",
      "R:\n",
      " [[-2.25720848  1.89730857 -0.10027277]\n",
      " [ 0.         -3.53158832  1.12439731]\n",
      " [ 0.          0.          2.90236627]]\n",
      "\n"
     ]
    }
   ],
   "source": [
    "# Generate random data (design matrix X, data y)\n",
    "# Solve for beta using QR decomp.\n",
    "# Compare the QR results against the \"standard\" left-inverse method.\n",
    "\n",
    "m = 10\n",
    "n = 3\n",
    "X = np.array( np.random.randn(m,n) )\n",
    "y = np.array( np.random.randn(m,1) )\n",
    "Q, R = np.linalg.qr(X)\n",
    "\n",
    "# Method 1: Beta = (RTR)^-1 x (QR)^T x y <- QR decomposition\n",
    "RT = np.transpose(R)\n",
    "RTRi = np.linalg.inv(np.dot(RT, R))\n",
    "QR = np.dot(Q, R)\n",
    "QRT = np.transpose(QR)\n",
    "#B1 = RTRi * QRT * y\n",
    "B1 = np.dot(RTRi, QRT)\n",
    "B1 = np.dot(B1, y)\n",
    "print(\"B1:\\n\", B1)\n",
    "print()\n",
    "\n",
    "# Method 2: Beta = (XTX)^-1 x (XT * y <- left inverse\n",
    "XT = np.transpose(X)\n",
    "XTXi = np.linalg.inv(np.dot(XT, X))\n",
    "B2 = np.dot(XTXi, XT)\n",
    "B2 = np.dot(B2, y)\n",
    "\n",
    "print(\"B2:\\n\", B2)\n",
    "print()\n",
    "print(\"X:\\n\", X)\n",
    "print(\"Q:\\n\", Q)\n",
    "print(\"R:\\n\", R)\n",
    "print()"
   ]
  }
 ],
 "metadata": {
  "kernelspec": {
   "display_name": "Python 3",
   "language": "python",
   "name": "python3"
  },
  "language_info": {
   "codemirror_mode": {
    "name": "ipython",
    "version": 3
   },
   "file_extension": ".py",
   "mimetype": "text/x-python",
   "name": "python",
   "nbconvert_exporter": "python",
   "pygments_lexer": "ipython3",
   "version": "3.7.4"
  }
 },
 "nbformat": 4,
 "nbformat_minor": 2
}
