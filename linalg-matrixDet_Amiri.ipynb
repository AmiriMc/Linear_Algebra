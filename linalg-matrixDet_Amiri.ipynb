{
 "cells": [
  {
   "cell_type": "code",
   "execution_count": 2,
   "metadata": {},
   "outputs": [],
   "source": [
    "import numpy as np\n",
    "import matplotlib.pyplot as plt\n",
    "import math\n",
    "from mpl_toolkits.mplot3d import Axes3D\n",
    "from IPython import display\n",
    "import time\n",
    "from sympy import *"
   ]
  },
  {
   "cell_type": "code",
   "execution_count": 78,
   "metadata": {},
   "outputs": [
    {
     "name": "stdout",
     "output_type": "stream",
     "text": [
      "a:\n",
      " [[1 3]\n",
      " [1 3]]\n",
      "\n",
      "a_det:\n",
      " 0.0\n",
      "\n",
      "\n",
      "A_ans det:\n",
      " -0.27164826217009946\n",
      "\n",
      "rank: 29\n"
     ]
    }
   ],
   "source": [
    "# 91. Code challenge: determinant of small and large singular matrices\n",
    "\n",
    "# Singular matrix (reduced-rank matrix) has a determinant of 0.\n",
    "# Generate a 2x2 matrix of integers, and with linear dependencies (in rows or columns)\n",
    "# Compute the rank\n",
    "a = [[1,3],[1,3]]\n",
    "a = np.array([[1, 3], [1, 3]])\n",
    "a_det = np.linalg.det(a)\n",
    "print('a:\\n',a)\n",
    "print()\n",
    "print('a_det:\\n',a_det)\n",
    "print()\n",
    "\n",
    "# Generate mxm matrices, impose linear dependencies\n",
    "# Compute the rank\n",
    "m = 30\n",
    "A = np.array( np.random.randn(m,m) )\n",
    "A[:,0] = A[:,1]\n",
    "A_ans = np.linalg.det(A)\n",
    "#print('A:\\n',A)\n",
    "print()\n",
    "print('A_ans det:\\n',A_ans)\n",
    "print()\n",
    "print('rank:', np.linalg.matrix_rank(A))\n",
    "\n",
    "# small m and for large m\n"
   ]
  },
  {
   "cell_type": "code",
   "execution_count": 96,
   "metadata": {},
   "outputs": [
    {
     "name": "stdout",
     "output_type": "stream",
     "text": [
      "99.99999999999996\n"
     ]
    }
   ],
   "source": [
    "a = np.array([[4,0,1], [6,5,-1], [8,-2,8]])\n",
    "print(np.linalg.det(a))\n",
    "# Correct, answer is 100"
   ]
  },
  {
   "cell_type": "code",
   "execution_count": 139,
   "metadata": {},
   "outputs": [
    {
     "name": "stdout",
     "output_type": "stream",
     "text": [
      "2.4382823787713366\n",
      "-2.4382823787713366\n",
      "2.4382823787713366\n"
     ]
    }
   ],
   "source": [
    "# 93. Code challenge: large matrices with row exchanges\n",
    "\n",
    "# Generate a 6x6 matrix:\n",
    "# swap one row, det again\n",
    "#swap two rows, det again\n",
    "\n",
    "m = 6\n",
    "A = np.array( np.random.randn(m,m) )\n",
    "#print(A)\n",
    "print(np.linalg.det(A))\n",
    "A[[0,3]] = A[[3,0]] # first row swap\n",
    "print(np.linalg.det(A))\n",
    "A[[1,4]] = A[[4,1]] # second row swap\n",
    "#print(A)\n",
    "print(np.linalg.det(A))"
   ]
  },
  {
   "cell_type": "code",
   "execution_count": 278,
   "metadata": {},
   "outputs": [
    {
     "name": "stdout",
     "output_type": "stream",
     "text": [
      "[2.73988282133014e-08, 368764.4569329941, 725616.1705467612, 1076308.9186189077, 1482907.9771565273, 1872290.1314362034, 2151049.5698891203, 2520440.0307123074, 2876527.798653767, 3218533.482763304, 3639833.3862465564, 4101068.005058196, 4496467.421454009, 4797496.226029705, 5137871.220368172, 5508574.927142465, 5919988.993429216, 6252587.644490948, 6602194.283586506, 6992674.628945406, 7330021.283898388, 7682723.611697576, 8060773.664288911, 8460716.776706753, 8839612.230167443, 9261413.64941761, 9581069.839915257, 9936214.6663562, 10348468.189913105, 10693249.498184733]\n",
      "\n",
      "rank: 20\n"
     ]
    },
    {
     "data": {
      "image/png": "[encoded data removed]",
      "text/plain": [
       "<Figure size 432x288 with 1 Axes>"
      ]
     },
     "metadata": {
      "needs_background": "light"
     },
     "output_type": "display_data"
    }
   ],
   "source": [
    "# 95. Code challenge: determinant of shifted matrices\n",
    "\n",
    "# Impose a linear dependence\n",
    "# \"shift\" the matrix (0->0.1 times the identity matrix) (lambda)\n",
    "# Compute the abs(determinant) of the shifted matrix\n",
    "# repeat 1000 times\n",
    "# Plot of det as a function of lambda\n",
    "\n",
    "m = 20\n",
    "lamb = np.linspace(0, 0.1, 30)\n",
    "det=[]\n",
    "dets=[]\n",
    "\n",
    "for deti in lamb:\n",
    "    \n",
    "    # run 1000 iterations\n",
    "    for i in range(1000):\n",
    "        # generate matrix\n",
    "        A = np.array( np.random.randn(m,m) )\n",
    "        # reduce the rank\n",
    "        A[:,0] = A[:,1]\n",
    "        # compute the determinant\n",
    "        I = np.identity(m)\n",
    "        Atilda = A + (deti * I)\n",
    "        det.append(abs(np.linalg.det(Atilda)))\n",
    "        \n",
    "    dets.append(np.mean(det))\n",
    "        \n",
    "print(dets)       \n",
    "print()\n",
    "print('rank:', np.linalg.matrix_rank(A+deti * I))\n",
    "plt.plot(lamb, dets)\n",
    "plt.xlabel('Fraction of identity matrix for shifting')\n",
    "plt.ylabel('Determinant')\n",
    "plt.show()"
   ]
  },
  {
   "cell_type": "code",
   "execution_count": 259,
   "metadata": {},
   "outputs": [
    {
     "name": "stdout",
     "output_type": "stream",
     "text": [
      "[[ 0.51778881 -0.28765939 -0.09527667]\n",
      " [-0.05159239  0.92976027 -0.41612089]\n",
      " [ 1.46636137 -0.90564296 -1.93299915]]\n",
      "\n",
      "[[-0.28765939 -0.28765939 -0.09527667]\n",
      " [ 0.92976027  0.92976027 -0.41612089]\n",
      " [-0.90564296 -0.90564296 -1.93299915]]\n",
      "\n",
      "-0.08831844967098025\n",
      "rank: 3\n"
     ]
    }
   ],
   "source": [
    "# Sandbox - debug code for challenge above.\n",
    "\n",
    "m=3\n",
    "A = np.array( np.random.randn(m,m) )\n",
    "print(A)\n",
    "print()\n",
    "# reduce the rank\n",
    "A[:,0] = A[:,1]\n",
    "print(A)\n",
    "print()\n",
    "I = np.identity(m)\n",
    "A = A + (0.05*I)\n",
    "\n",
    "print(np.linalg.det(A))\n",
    "print('rank:', np.linalg.matrix_rank(A))"
   ]
  },
  {
   "cell_type": "code",
   "execution_count": null,
   "metadata": {},
   "outputs": [],
   "source": [
    "    lambda = range(0,0.1,0.0001)"
   ]
  }
 ],
 "metadata": {
  "kernelspec": {
   "display_name": "Python 3",
   "language": "python",
   "name": "python3"
  },
  "language_info": {
   "codemirror_mode": {
    "name": "ipython",
    "version": 3
   },
   "file_extension": ".py",
   "mimetype": "text/x-python",
   "name": "python",
   "nbconvert_exporter": "python",
   "pygments_lexer": "ipython3",
   "version": "3.7.4"
  }
 },
 "nbformat": 4,
 "nbformat_minor": 2
}
