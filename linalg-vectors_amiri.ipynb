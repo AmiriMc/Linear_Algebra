{
 "cells": [
  {
   "cell_type": "code",
   "execution_count": 1,
   "metadata": {},
   "outputs": [],
   "source": [
    "import numpy as np\n",
    "import matplotlib.pyplot as plt\n",
    "from mpl_toolkits.mplot3d import Axes3D"
   ]
  },
  {
   "cell_type": "code",
   "execution_count": 100,
   "metadata": {},
   "outputs": [
    {
     "name": "stdout",
     "output_type": "stream",
     "text": [
      "Matrix 1: \n",
      " [[2 0 7 5]\n",
      " [9 6 7 8]\n",
      " [9 0 7 5]\n",
      " [5 8 5 6]]\n",
      "\n",
      "Matrix 2: \n",
      " [[6 3 4 5]\n",
      " [2 6 4 4]\n",
      " [3 7 5 9]\n",
      " [1 2 2 6]]\n",
      "\n",
      "(4, 4)\n",
      "(4, 4)\n",
      "<class 'numpy.ndarray'>\n",
      "range(0, 4)\n",
      "range(0, 4)\n",
      "\n",
      "result matrix <class 'list'>\n",
      "\n",
      "[[38, 65, 53, 103, 0, 0], [95, 128, 111, 180, 0, 0], [80, 86, 81, 138, 0, 0], [67, 110, 89, 138, 0, 0]]\n",
      "\n",
      "76722\n",
      "dot product of matrix1 and matrix2: \n",
      " [[ 38  65  53 103]\n",
      " [ 95 128 111 180]\n",
      " [ 80  86  81 138]\n",
      " [ 67 110  89 138]]\n"
     ]
    }
   ],
   "source": [
    "# Create 2 4x6 matrices of random numbers.\n",
    "# Use a for loop  to compute dot products between corresponding columns\n",
    "\n",
    "matrix1 = np.random.randint(low=0, high=10, size=(4, 4)) \n",
    "matrix2 = np.random.randint(low=0, high=10, size=(4, 4))\n",
    "print('Matrix 1: \\n', matrix1)\n",
    "print()\n",
    "print('Matrix 2: \\n', matrix2)\n",
    "print()\n",
    "print(matrix1.shape)\n",
    "print(matrix2.shape)\n",
    "print(type(matrix1))\n",
    "\n",
    "    #for row, col in matrix1, matrix2:\n",
    "    #   result = result + matrix1[row][col]*matrix2[row][col]\n",
    "print(range(len(matrix1)))\n",
    "print(range(len(matrix2[0])))\n",
    "print()\n",
    "\n",
    "result_matrix = [[0 for i in range(6)] for j in range(4)]\n",
    "print('result matrix', type(result_matrix))\n",
    "print()\n",
    "\n",
    "# Iterating by row of matrix1\n",
    "for i in range(len(matrix1)):\n",
    "        \n",
    "    # Iterating by column of matrix2\n",
    "    for j in range(len(matrix2[0])):\n",
    "            \n",
    "        # Iterating by rows of matrix 2\n",
    "        for k in range(len(matrix2)):\n",
    "            result += matrix1[i][k] * matrix2[k][j]\n",
    "            result_matrix[i][j] += matrix1[i][k] * matrix2[k][j]\n",
    "                \n",
    "#return result\n",
    "print(result_matrix)\n",
    "print()\n",
    "print(result)\n",
    "matrix1 = np.array(np.squeeze(np.asarray(matrix1)))\n",
    "matrix2 = np.array(np.squeeze(np.asarray(matrix2)))\n",
    "#matrix1 = list(matrix1)\n",
    "#matrix2 = list(matrix2)\n",
    "#print(matrix1)\n",
    "#print(matrix2)\n",
    "\n",
    "print('dot product of matrix1 and matrix2: \\n', np.dot(matrix1, matrix2))\n"
   ]
  },
  {
   "cell_type": "code",
   "execution_count": 89,
   "metadata": {},
   "outputs": [
    {
     "data": {
      "text/plain": [
       "array([[37, 40],\n",
       "       [85, 92]])"
      ]
     },
     "execution_count": 89,
     "metadata": {},
     "output_type": "execute_result"
    }
   ],
   "source": [
    "a = np.array([[1,2],[3,4]]) \n",
    "b = np.array([[11,12],[13,14]]) \n",
    "np.dot(a,b)"
   ]
  },
  {
   "cell_type": "code",
   "execution_count": 103,
   "metadata": {},
   "outputs": [
    {
     "data": {
      "text/plain": [
       "0.0"
      ]
     },
     "execution_count": 103,
     "metadata": {},
     "output_type": "execute_result"
    }
   ],
   "source": [
    "# Is Orthogonal?\n",
    "a = np.array([16, -2, 4]) \n",
    "b = np.array([0.5, 2, -1]) \n",
    "np.dot(a,b)"
   ]
  },
  {
   "cell_type": "code",
   "execution_count": 132,
   "metadata": {},
   "outputs": [
    {
     "name": "stdout",
     "output_type": "stream",
     "text": [
      "v1: [-3  4  6]\n",
      "v2: [ 3  6 -3]\n",
      "dot product: -3\n",
      "dot product w/scalars: -18\n"
     ]
    }
   ],
   "source": [
    "# Test whether the dot product sign is invariant to \n",
    "# scalar multiplication\n",
    "\n",
    "# Generate two vectors (R3) - R3 just means 3 elements\n",
    "vector1 = np.array([-3, 4, 6])\n",
    "vector2 = np.array([3, 6, -3])\n",
    "print('v1:',vector1)\n",
    "print('v2:',vector2)\n",
    "\n",
    "# Generate two scalars\n",
    "scalar1 = 2\n",
    "scalar2 = 3\n",
    "\n",
    "# Compute the dot product between vectors\n",
    "print('dot product:',np.dot(vector1,vector2))\n",
    "\n",
    "# Compute the dot product between the scaled vectors\n",
    "vector1 = scalar1*vector1\n",
    "vector2 = scalar2*vector2\n",
    "print('dot product w/scalars:',np.dot(vector1,vector2))"
   ]
  },
  {
   "cell_type": "code",
   "execution_count": 142,
   "metadata": {},
   "outputs": [
    {
     "name": "stdout",
     "output_type": "stream",
     "text": [
      "dot product (v1*v2): 2054\n",
      "dot product (v2*v1): 2054\n",
      "[2 9]\n",
      "[1 0]\n"
     ]
    }
   ],
   "source": [
    "# Is the dot product commutative; which means is: A*B = B*A?\n",
    "# This is true for algebra, but is this true for vectors?\n",
    "# Definitely not the case for matrix multiplication.\n",
    "# a'*B == b'*a\n",
    "\n",
    "# 1) Generate two 100-element random row vectors, compute dot product a with b, b with a\n",
    "v1 = np.random.randint(low=0, high=10, size=(100))\n",
    "v2 = np.random.randint(low=0, high=10, size=(100))\n",
    "print('dot product (v1*v2):',np.dot(v1,v2))\n",
    "print('dot product (v2*v1):',np.dot(v2,v1))\n",
    "\n",
    "# 2) Generate two 2-element integer row vectors, repeat\n",
    "v1 = np.random.randint(low=0, high=10, size=(2))\n",
    "v2 = np.random.randint(low=0, high=10, size=(2))\n",
    "print(v1)\n",
    "print(v2)"
   ]
  },
  {
   "cell_type": "code",
   "execution_count": 168,
   "metadata": {},
   "outputs": [
    {
     "name": "stdout",
     "output_type": "stream",
     "text": [
      "v1: [8 9 6 2]\n",
      "v2: [3 1 4 5]\n",
      "v1m: 13.601470508735444\n",
      "v2m: 7.14142842854285\n",
      "dpm: 67\n",
      "v1u: [0.5881717  0.66169316 0.44112877 0.14704292]\n",
      "v2u: [0.42008403 0.14002801 0.56011203 0.70014004]\n",
      "v1m(u): 0.9999999999999999\n",
      "v2m(u): 0.9999999999999999\n",
      "dpum: 0.6897692831787727\n"
     ]
    }
   ],
   "source": [
    "# Create two random-integer vectors (R4)\n",
    "v1 = np.random.randint(low=0, high=10, size=(4))\n",
    "v2 = np.random.randint(low=0, high=10, size=(4))\n",
    "print('v1:',v1)\n",
    "print('v2:',v2)\n",
    "\n",
    "# Compute the lengths of the individual vectors, and magnitude of their dot product\n",
    "# Length (?)\n",
    "v1m = np.sqrt(np.dot(v1,v1))\n",
    "v2m = np.sqrt(np.dot(v2,v2))\n",
    "print('v1m:',v1m)\n",
    "print('v2m:',v2m)\n",
    "# Dot product magnitude (DPM) correct?\n",
    "dpm = sum(np.multiply(v1, v2)) # Hadamard multiplication\n",
    "print('dpm:',dpm)\n",
    "\n",
    "# \"Normalize\" the vectors (create unit vectors along the same directions)\n",
    "v1u = v1/v1m\n",
    "v2u = v2/v2m\n",
    "print('v1u:',v1u)\n",
    "print('v2u:',v2u)\n",
    "\n",
    "v1m = np.sqrt(np.dot(v1u,v1u)) #proof, should be 1\n",
    "v2m = np.sqrt(np.dot(v2u,v2u))\n",
    "print('v1m(u):',v1m)\n",
    "print('v2m(u):',v2m)\n",
    "\n",
    "# Compute the magnitude of that dot product correct?\n",
    "dpum = sum(np.multiply(v1u, v2u))\n",
    "print('dpum:',dpum)"
   ]
  },
  {
   "cell_type": "code",
   "execution_count": null,
   "metadata": {},
   "outputs": [],
   "source": []
  }
 ],
 "metadata": {
  "kernelspec": {
   "display_name": "Python 3",
   "language": "python",
   "name": "python3"
  },
  "language_info": {
   "codemirror_mode": {
    "name": "ipython",
    "version": 3
   },
   "file_extension": ".py",
   "mimetype": "text/x-python",
   "name": "python",
   "nbconvert_exporter": "python",
   "pygments_lexer": "ipython3",
   "version": "3.7.4"
  }
 },
 "nbformat": 4,
 "nbformat_minor": 2
}
